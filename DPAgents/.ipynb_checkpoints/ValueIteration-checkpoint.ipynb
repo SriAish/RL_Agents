{
 "cells": [
  {
   "cell_type": "code",
   "execution_count": 1,
   "metadata": {},
   "outputs": [],
   "source": [
    "import numpy as np\n",
    "from GridWorld import GridWorld"
   ]
  },
  {
   "cell_type": "code",
   "execution_count": 2,
   "metadata": {},
   "outputs": [],
   "source": [
    "class Error(Exception):\n",
    "    \"\"\"Base class for exceptions in this module.\"\"\"\n",
    "    pass\n",
    "\n",
    "class InputError(Error):\n",
    "    \"\"\"Exception raised for errors in the input.\"\"\"\n",
    "\n",
    "    def __init__(self, msg):\n",
    "        self.msg = msg\n"
   ]
  },
  {
   "cell_type": "code",
   "execution_count": 3,
   "metadata": {},
   "outputs": [],
   "source": [
    "class ValueIteration():\n",
    "    \"\"\"Class of a general discrete agent\"\"\"\n",
    "    \n",
    "    def __init__(self, env, discount_factor=0.99, theta=0.1):\n",
    "        self.env = env\n",
    "        self.ValueFunction = np.zeros(self.env.nS)\n",
    "        self.discount_factor = discount_factor\n",
    "        self.theta = theta\n",
    "        self.policy = np.ones([self.env.nS, self.env.nA])/self.env.nA\n",
    "\n",
    "    def update(self):\n",
    "        V = np.zeros(self.env.nS)\n",
    "        policy = np.zeros([self.env.nS, self.env.nA])\n",
    "\n",
    "        # Implement!\n",
    "        while True:\n",
    "            max_diff = 0\n",
    "            for s in range(self.env.nS):\n",
    "                max_v = -999999\n",
    "                max_a = 0\n",
    "                for a in range(self.env.nA):\n",
    "                    v = 0;\n",
    "                    next_state, reward, done, prob = self.env.P[s][a]\n",
    "                    v += prob * (reward + self.discount_factor * V[(int)(next_state)])\n",
    "                    if v > max_v:\n",
    "                        max_a = a\n",
    "                    max_v = max(v, max_v)\n",
    "\n",
    "                delta = max(max_diff, np.abs(V[s]-max_v))\n",
    "                V[s] = max_v\n",
    "                policy[s] = np.eye(self.env.nA)[max_a]\n",
    "            if delta < self.theta:\n",
    "                self.policy = policy\n",
    "                self.ValueFunction = V\n",
    "                return policy, V\n",
    "    \n",
    "    def get_action(self, state):\n",
    "        if type(state) is tuple and len(state) == 2:\n",
    "            return np.random.choice(np.arange(len(self.policy[state])), p=self.policy[state])\n",
    "        raise InputError(\"Wrong State Value\")"
   ]
  },
  {
   "cell_type": "code",
   "execution_count": 4,
   "metadata": {},
   "outputs": [],
   "source": [
    "agent = ValueIteration(GridWorld())"
   ]
  },
  {
   "cell_type": "code",
   "execution_count": 5,
   "metadata": {},
   "outputs": [],
   "source": [
    "pol, V = agent.update()"
   ]
  },
  {
   "cell_type": "code",
   "execution_count": 6,
   "metadata": {
    "scrolled": true
   },
   "outputs": [
    {
     "data": {
      "text/plain": [
       "array([[ 16.46159041,  19.74645163,  23.36182899,  27.34789333,\n",
       "         31.74893427,  36.61385225,  41.99670193,  47.95729273],\n",
       "       [ 19.74645163,  23.36182899,  27.34789333,  31.74893427,\n",
       "         36.61385225,  41.99670193,  47.95729273,  54.56185346],\n",
       "       [ 23.36182899,  27.34789333,  31.74893427,  36.61385225,\n",
       "         41.99670193,  47.95729273,  54.56185346,  61.88376811],\n",
       "       [ 27.34789333,  31.74893427,  36.61385225,  41.99670193,\n",
       "         47.95729273,  54.56185346,  61.88376811,  70.0043913 ],\n",
       "       [ 23.613104  ,  27.57404084,  31.95246703,  47.95729273,\n",
       "         54.56185346,  61.88376811,  70.0043913 ,  79.01395217],\n",
       "       [ 20.2517936 ,  23.81663676,  20.43497308,  54.56185346,\n",
       "         61.88376811,  70.0043913 ,  79.01395217,  89.01255696],\n",
       "       [ 17.22661424,  20.43497308,  17.39147577,  61.88376811,\n",
       "         70.0043913 ,  79.01395217,  89.01255696, 100.11130126],\n",
       "       [ 14.50395282,  17.39147577,  14.6523282 ,  70.0043913 ,\n",
       "         79.01395217,  89.01255696, 100.11130126,  89.10017113]])"
      ]
     },
     "execution_count": 6,
     "metadata": {},
     "output_type": "execute_result"
    }
   ],
   "source": [
    "V.reshape(8, 8)"
   ]
  },
  {
   "cell_type": "code",
   "execution_count": 17,
   "metadata": {},
   "outputs": [
    {
     "data": {
      "text/plain": [
       "{'done': 0, 'invalid_move': -2, 'terminated': 20, 'valid_move': -1}"
      ]
     },
     "execution_count": 17,
     "metadata": {},
     "output_type": "execute_result"
    }
   ],
   "source": [
    "GridWorld().rewards"
   ]
  }
 ],
 "metadata": {
  "kernelspec": {
   "display_name": "Python 3",
   "language": "python",
   "name": "python3"
  },
  "language_info": {
   "codemirror_mode": {
    "name": "ipython",
    "version": 3
   },
   "file_extension": ".py",
   "mimetype": "text/x-python",
   "name": "python",
   "nbconvert_exporter": "python",
   "pygments_lexer": "ipython3",
   "version": "3.5.2"
  }
 },
 "nbformat": 4,
 "nbformat_minor": 2
}
